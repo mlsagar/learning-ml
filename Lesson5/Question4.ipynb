{
 "cells": [
  {
   "cell_type": "markdown",
   "id": "40f29670",
   "metadata": {},
   "source": [
    "### Perspective and Geometric Transformations: Develop a script to perform operations like rotation, translation, scaling, skewing, and perspective warping on images"
   ]
  },
  {
   "cell_type": "code",
   "execution_count": null,
   "id": "ffb8fc32",
   "metadata": {},
   "outputs": [],
   "source": []
  }
 ],
 "metadata": {
  "kernelspec": {
   "display_name": "Python 3 (ipykernel)",
   "language": "python",
   "name": "python3"
  },
  "language_info": {
   "codemirror_mode": {
    "name": "ipython",
    "version": 3
   },
   "file_extension": ".py",
   "mimetype": "text/x-python",
   "name": "python",
   "nbconvert_exporter": "python",
   "pygments_lexer": "ipython3",
   "version": "3.11.5"
  }
 },
 "nbformat": 4,
 "nbformat_minor": 5
}
