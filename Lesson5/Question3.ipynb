{
 "cells": [
  {
   "cell_type": "markdown",
   "id": "e70c2003",
   "metadata": {},
   "source": [
    "#### Feature Extraction from Images: Implement an algorithm to extract features such as corners, edges, and blobs from images. "
   ]
  },
  {
   "cell_type": "markdown",
   "id": "29b8a1dc",
   "metadata": {},
   "source": [
    "1. Corner Detection"
   ]
  },
  {
   "cell_type": "code",
   "execution_count": null,
   "id": "782339b9",
   "metadata": {},
   "outputs": [],
   "source": [
    "import cv2\n",
    "import numpy as np\n",
    "\n",
    "# Load the image\n",
    "image = cv2.imread('bicycle.jpg', cv2.IMREAD_GRAYSCALE)\n",
    "\n",
    "# Parameters for corner detection\n",
    "block_size = 2     # neighborhood size for corner detection\n",
    "ksize = 3          # aperture parameter for the Sobel operator\n",
    "k = 0.04           # Harris detector free parameter\n",
    "\n",
    "# Detect corners using Harris Corner Detection\n",
    "corners = cv2.cornerHarris(image, block_size, ksize, k)\n",
    "\n",
    "# Mark detected corners on the original image\n",
    "image_with_corners = image.copy()\n",
    "image_with_corners[corners > 0.01 * corners.max()] = [0, 0, 255]  # Mark corners in red\n",
    "\n",
    "# Display the result\n",
    "# cv2.imshow('Corners', image_with_corners)\n",
    "# cv2.waitKey(0)\n",
    "# cv2.destroyAllWindows()\n"
   ]
  },
  {
   "cell_type": "markdown",
   "id": "d95ee38d",
   "metadata": {},
   "source": [
    "2. Edge Detection"
   ]
  },
  {
   "cell_type": "code",
   "execution_count": null,
   "id": "df7a704a",
   "metadata": {},
   "outputs": [],
   "source": [
    "# Load the image\n",
    "image = cv2.imread('bicycle.jpg', cv2.IMREAD_GRAYSCALE)\n",
    "\n",
    "# Perform Canny edge detection\n",
    "edges = cv2.Canny(image, threshold1=30, threshold2=100)\n",
    "\n",
    "# Display the result\n",
    "cv2.imshow('Edges', edges)\n",
    "cv2.waitKey(0)\n",
    "cv2.destroyAllWindows()\n"
   ]
  },
  {
   "cell_type": "markdown",
   "id": "4596b8d1",
   "metadata": {},
   "source": [
    "3. Blob Detection"
   ]
  },
  {
   "cell_type": "code",
   "execution_count": null,
   "id": "f4d5f943",
   "metadata": {},
   "outputs": [],
   "source": [
    "# Load the image\n",
    "image = cv2.imread('bicycle.jpg', cv2.IMREAD_GRAYSCALE)\n",
    "\n",
    "# Setup SimpleBlobDetector parameters\n",
    "params = cv2.SimpleBlobDetector_Params()\n",
    "\n",
    "# Change thresholds and filterByArea to detect larger or smaller blobs\n",
    "params.minThreshold = 10\n",
    "params.maxThreshold = 200\n",
    "params.filterByArea = True\n",
    "params.minArea = 100\n",
    "\n",
    "# Create a detector with the parameters\n",
    "detector = cv2.SimpleBlobDetector_create(params)\n",
    "\n",
    "# Detect blobs\n",
    "keypoints = detector.detect(image)\n",
    "\n",
    "# Draw detected blobs as red circles\n",
    "image_with_blobs = cv2.drawKeypoints(image, keypoints, np.array([]), (0, 0, 255),\n",
    "                                      cv2.DRAW_MATCHES_FLAGS_DRAW_RICH_KEYPOINTS)\n",
    "\n",
    "# Display the result\n",
    "cv2.imshow('Blobs', image_with_blobs)\n",
    "cv2.waitKey(0)\n",
    "cv2.destroyAllWindows()\n"
   ]
  }
 ],
 "metadata": {
  "kernelspec": {
   "display_name": "Python 3 (ipykernel)",
   "language": "python",
   "name": "python3"
  },
  "language_info": {
   "codemirror_mode": {
    "name": "ipython",
    "version": 3
   },
   "file_extension": ".py",
   "mimetype": "text/x-python",
   "name": "python",
   "nbconvert_exporter": "python",
   "pygments_lexer": "ipython3",
   "version": "3.11.5"
  }
 },
 "nbformat": 4,
 "nbformat_minor": 5
}
